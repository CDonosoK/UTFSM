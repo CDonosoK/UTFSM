{
  "nbformat": 4,
  "nbformat_minor": 5,
  "metadata": {
    "kernelspec": {
      "display_name": "Python 3 (ipykernel)",
      "language": "python",
      "name": "python3"
    },
    "language_info": {
      "codemirror_mode": {
        "name": "ipython",
        "version": 3
      },
      "file_extension": ".py",
      "mimetype": "text/x-python",
      "name": "python",
      "nbconvert_exporter": "python",
      "pygments_lexer": "ipython3",
      "version": "3.8.8"
    },
    "colab": {
      "name": "ROL-certamen-1.ipynb",
      "provenance": [],
      "collapsed_sections": []
    }
  },
  "cells": [
    {
      "cell_type": "markdown",
      "metadata": {
        "id": "da11a626"
      },
      "source": [
        "<center>\n",
        "    <img src=\"http://sct.inf.utfsm.cl/wp-content/uploads/2020/04/logo_di.png\" style=\"width:60%\">\n",
        "    <h1> INF285 - Computación Científica </h1>\n",
        "    <h2> Certamen 1 - Código Base</h2>\n",
        "    <h2> [S]cientific [C]omputing [T]eam </h2>\n",
        "    <h2> Version: 1.00</h2>\n",
        "</center>"
      ],
      "id": "da11a626"
    },
    {
      "cell_type": "markdown",
      "metadata": {
        "id": "6df3c4f2"
      },
      "source": [
        "# Librerias a utilizar. No debe utilizar bibliotecas adicionales."
      ],
      "id": "6df3c4f2"
    },
    {
      "cell_type": "code",
      "metadata": {
        "id": "4430bc0c"
      },
      "source": [
        "import numpy as np\n",
        "import scipy as sp"
      ],
      "id": "4430bc0c",
      "execution_count": null,
      "outputs": []
    },
    {
      "cell_type": "markdown",
      "metadata": {
        "id": "661750e7"
      },
      "source": [
        "# Pregunta 1.1"
      ],
      "id": "661750e7"
    },
    {
      "cell_type": "markdown",
      "metadata": {
        "id": "c1c7d026"
      },
      "source": [
        "A partir del valor de $t$ y las funciones $a(t), b(t)$ y $c(t)$, se deben calcular dichos valores (los cuales llamaremos $a,b,c$ respectivamente). Luego de tener esos valores, se debe construir la función \"tipo\" que nos piden encontrar: $f(x) = ax^2+bx+c$\n",
        "\n",
        "Cabe recalcar que el valor de c, tiene una pérdida de importancia ya que $e^{-t}$ tiene un valor de $ \\approx 10^{-43430}$, por lo que computacionalmente el valor de c será de $-1$, esta aproximación no traerá mayores problemas debido a que el error será mejor que $\\dfrac{\\epsilon mach}{2}$.\n",
        "\n",
        "Por otra parte, la función $f(x)$ siempre tendrá forma parabólica, por lo que la derivada siempre tendrá la forma de $f'(x) = 2ax + b$y a su vez, el vértice siempre tendrá una coordenada x de $verticeX = \\dfrac{-b}{2a}$\n",
        "\n",
        "Con estos datos y utilizando la función \"method_newton\" del profesor es fácil obtener las raices del problema, siendo que se debe aplicar dos veces el método de newton para encontrar los dos valores de las raices, esto se hace a partir de 2 initial guess inteligentes:\n",
        "- $initialGuess1 = verticeX + np.inf$\n",
        "- $initialGuess2 = verticeX - np.inf$\n",
        "\n",
        "Luego el método de newton iterará hasta encontrar los dos valores posibles.\n"
      ],
      "id": "c1c7d026"
    },
    {
      "cell_type": "markdown",
      "metadata": {
        "id": "cf7d6885"
      },
      "source": [
        "# Pregunta 1.2"
      ],
      "id": "cf7d6885"
    },
    {
      "cell_type": "code",
      "metadata": {
        "id": "dad5aaf9"
      },
      "source": [
        "'''\n",
        "input:\n",
        "t        : (double) Tiempo \"t\" a obtener la raíz.\n",
        "a        : (callable) Función _lambda_ que implementa \"a(t)\".\n",
        "b        : (callable) Función _lambda_ que implementa \"b(t)\".\n",
        "c        : (callable) Función _lambda_ que implementa \"c(t)\".\n",
        "\n",
        "output:\n",
        "roots    : (ndarray) Arreglo de NumPy unidimensional con 2 elementos.\n",
        "'''\n",
        "def newton_method(f, fp, x0, rel_error=1e-8, m=1, maxNumberIterations=100):\n",
        "    #Función hecha por el profesor Claudio Torres, y fue obtenida a partir\n",
        "    # de los jupyter que subió a GitHub: https://github.com/tclaudioe/Scientific-Computing/tree/master/SC1v2\n",
        "    #Initialization of hybrid error and absolute\n",
        "    hybrid_error = 100\n",
        "    error_i = np.inf\n",
        "    \n",
        "    #Iteration counter\n",
        "    i = 1\n",
        "    while (hybrid_error > rel_error and hybrid_error < 1e12 and i<=maxNumberIterations):\n",
        "        #Newton's iteration\n",
        "        x1 = x0-m*f(x0)/fp(x0)\n",
        "        \n",
        "        #Checking if root was found\n",
        "        if f(x1) == 0.0:\n",
        "            hybrid_error = 0.0\n",
        "            break\n",
        "        \n",
        "        #Computation of hybrid error\n",
        "        hybrid_error = abs(x1-x0)/np.max([abs(x1),1e-12])\n",
        "        \n",
        "        #Computation of absolute error\n",
        "        error_iminus1 = error_i\n",
        "        error_i = abs(x1-x0)\n",
        "        \n",
        "        #Increasing counter\n",
        "        i += 1\n",
        "\n",
        "        #Updating solution\n",
        "        x0 = x1\n",
        "    \n",
        "    #Checking if solution was obtained\n",
        "    if hybrid_error < rel_error: \n",
        "        return x1\n",
        "    elif i>=maxNumberIterations:\n",
        "        return None\n",
        "    else:\n",
        "        return None\n",
        "        \n",
        "def p1_2_find_roots(t, a, b, c): \n",
        "    # Your own code.\n",
        "    #Definiendo las funciones según el valor de te que nos dan\n",
        "    a = a(t)\n",
        "    b = b(t)\n",
        "    c = c(t)\n",
        "\n",
        "    #Definiendo la función a buscar las raices\n",
        "    f = lambda x: a*x**2+b*x+c\n",
        "    fp = lambda x: 2*a*x+b\n",
        "\n",
        "    #Se obtienen las coordenadas del vértice para encontrar en un futuro las raices\n",
        "    verticeX = (-b)/(2*a)\n",
        "\n",
        "    #Se obtiene con el método de newton las dos raices\n",
        "    #Cabe destacar que la función newton_method es la construida por el profesor\n",
        "    raiz1 = newton_method(f, fp, -10*verticeX,rel_error=1e-5)\n",
        "    raiz2 = newton_method(f, fp, 10*verticeX,rel_error=1e-5)\n",
        "\n",
        "    roots = np.empty(2)\n",
        "    roots[0] = raiz1\n",
        "    roots[1] = raiz2\n",
        "    return roots\n"
      ],
      "id": "dad5aaf9",
      "execution_count": null,
      "outputs": []
    },
    {
      "cell_type": "markdown",
      "metadata": {
        "id": "OJ4BpZEb8XF3"
      },
      "source": [
        "#Valores calculados\n",
        "```\n",
        "t = pow(10,5)\n",
        "a = lambda t: t\n",
        "b = lambda t: pow(t,5)\n",
        "c = lambda t: 1+np.exp(-t)\n",
        "\n",
        "p1_2_find_roots(t,a,b,c)\n",
        "```\n",
        "\n"
      ],
      "id": "OJ4BpZEb8XF3"
    },
    {
      "cell_type": "markdown",
      "metadata": {
        "id": "2db03df0"
      },
      "source": [
        "# Pregunta 2.1"
      ],
      "id": "2db03df0"
    },
    {
      "cell_type": "markdown",
      "metadata": {
        "id": "ade186be"
      },
      "source": [
        "Un algoritmo podría ser utilizando el método de newton, el cual por defecto buscará la raiz más cercana al initial guess ingresado.\n",
        "\n",
        "Para ello, al igual que la pregunta 1, se debe reemplazar el valor de t en las funciones $a(t), b(t)$ y $c(t)$, luego se representa la función $g(x) = ah_1(x)+bh_2(x)+c$\n",
        "\n",
        "Sin embargo, para ocupar el método de newton se necesitar las derivadas de $h_1(x)$ y $h_2(x)$, por lo que se requieren esas derivadas.\n",
        "\n",
        "Luego utilizando el método de newton, se debe iterar siguiendo las condiciones de detención, es decir:\n",
        "- El error es menor a la tolerancia\n",
        "- Si se superaron las iteraciones que se permiten\n",
        "\n",
        "Por otra parte, se observa que el algoritmo es convergente, debido a que se consta con las derivadas de las funciones como también se puede observar la convergencia cuadrática de las soluciones encontradas.\n",
        "\n",
        "<b> OTRA FORMA DE VER LA CONVERGENCIA:  </b>\n",
        "\n",
        "Si bien, no se puede ocupar diagramas ni graficar, utilizando los diagramas de Cobweb se podría observar la convergencia hacia un punto fijo, pero utilizando un cambio de \"variable\" o cambio en la función de tal manera de obtener dicho valor.\n"
      ],
      "id": "ade186be"
    },
    {
      "cell_type": "code",
      "metadata": {
        "id": "DcB9u-k0_0Qn"
      },
      "source": [
        ""
      ],
      "id": "DcB9u-k0_0Qn",
      "execution_count": null,
      "outputs": []
    },
    {
      "cell_type": "markdown",
      "metadata": {
        "id": "69ae3ae9"
      },
      "source": [
        "# Pregunta 2.2"
      ],
      "id": "69ae3ae9"
    },
    {
      "cell_type": "code",
      "metadata": {
        "id": "b9fd4e7b"
      },
      "source": [
        "'''\n",
        "input:\n",
        "t        : (double) Tiempo \"t\" a obtener la raíz.\n",
        "a        : (callable) Función _lambda_ que implementa \"a(t)\".\n",
        "b        : (callable) Función _lambda_ que implementa \"b(t)\".\n",
        "c        : (callable) Función _lambda_ que implementa \"c(t)\".\n",
        "h1       : (callable) Función _lambda_ que implementa \"h1(t)\".\n",
        "h2       : (callable) Función _lambda_ que implementa \"h2(t)\".\n",
        "ap       : (callable) Función _lambda_ que implementa \"a'(t)\".\n",
        "bp       : (callable) Función _lambda_ que implementa \"b'(t)\".\n",
        "cp       : (callable) Función _lambda_ que implementa \"c'(t)\".\n",
        "h1p      : (callable) Función _lambda_ que implementa \"h1'(t)\".\n",
        "h2p      : (callable) Función _lambda_ que implementa \"h2'(t)\".\n",
        "x_tilde  : (double) \"Initial guess\".\n",
        "Tol      : (double) Tolerancia absoluta requerida.\n",
        "MaxNIte  : (integer) Máximo número de iteraciones a realizar.\n",
        "\n",
        "output:\n",
        "root     : (double) Raíz encontrada.\n",
        "'''\n",
        "def newton_method(f, fp, x0, rel_error=1e-8, m=1, maxNumberIterations=100):\n",
        "    #Función hecha por el profesor Claudio Torres, y fue obtenida a partir\n",
        "    # de los jupyter que subió a GitHub: https://github.com/tclaudioe/Scientific-Computing/tree/master/SC1v2\n",
        "    #Initialization of hybrid error and absolute\n",
        "    hybrid_error = 100\n",
        "    error_i = np.inf\n",
        "    \n",
        "    #Iteration counter\n",
        "    i = 1\n",
        "    while (error_i > rel_error and i<=maxNumberIterations):\n",
        "        #Newton's iteration\n",
        "        x1 = x0-m*f(x0)/fp(x0)\n",
        "        \n",
        "        #Checking if root was found\n",
        "        if f(x1) == 0.0:\n",
        "            error_i = 0.0\n",
        "            break\n",
        "\n",
        "        #Computation of absolute error\n",
        "        error_i = abs(x1-x0)\n",
        "        \n",
        "        #Increasing counter\n",
        "        i += 1\n",
        "\n",
        "        #Updating solution\n",
        "        x0 = x1\n",
        "\n",
        "    #Checking if solution was obtained\n",
        "    if error_i < rel_error: \n",
        "        return x1\n",
        "    else:\n",
        "        return x0\n",
        "\n",
        "\n",
        "def p2_2_find_root(t, a, b, c, h1, h2, ap, bp, cp, h1p, h2p, x_tilde, Tol, MaxNIte):\n",
        "    # Your own code.\n",
        "    #Definiendo las funciones según el valor de te que nos dan\n",
        "    a = a(t)\n",
        "    b = b(t)\n",
        "    c = c(t)\n",
        "\n",
        "    #Definiendo la función a buscar las raices\n",
        "    f = lambda x: a*h1(x)+b*h2(x)+c\n",
        "    fp = lambda x: a*h1p(x)+b*h2p(x)\n",
        "\n",
        "    #Se obtiene con el método de newton las dos raices\n",
        "    #Cabe destacar que la función newton_method es la construida por el profesor\n",
        "    raiz = newton_method(f, fp, x_tilde,rel_error=Tol,maxNumberIterations=MaxNIte )\n",
        "\n",
        "    root = raiz\n",
        "    return root\n"
      ],
      "id": "b9fd4e7b",
      "execution_count": null,
      "outputs": []
    },
    {
      "cell_type": "markdown",
      "metadata": {
        "id": "GpghnWPJ9S0Z"
      },
      "source": [
        "#Valores Calculados\n",
        "\n",
        "```\n",
        "t = 1\n",
        "a = lambda t: -1\n",
        "ap = lambda t: 0\n",
        "b = lambda t: t\n",
        "bp = lambda t: 1\n",
        "c = lambda t: 1+np.exp(-t)\n",
        "cp = lambda t: - np.exp(-t)\n",
        "h1 = lambda x: x**2\n",
        "h1p = lambda x: 2*x\n",
        "h2 = lambda x: x\n",
        "h2p = lambda x: 1\n",
        "\n",
        "p2_2_find_root(t,a,b,c,h1,h2,ap,bp,cp,h1p,h2p,0,pow(10,-10), pow(10, 6))\n",
        "```\n",
        "\n"
      ],
      "id": "GpghnWPJ9S0Z"
    },
    {
      "cell_type": "markdown",
      "metadata": {
        "id": "cf142737"
      },
      "source": [
        "# Pregunta 2.4"
      ],
      "id": "cf142737"
    },
    {
      "cell_type": "code",
      "metadata": {
        "id": "790eba9c"
      },
      "source": [
        "'''\n",
        "input:\n",
        "tau0     : (double) Tiempo initial \"tau0\".\n",
        "tau1     : (double) Tiempo initial \"tau1\".\n",
        "n        : (integer) n+1 corresponde a la cantidad de puntos equiespaciados a utilizar.\n",
        "a        : (callable) Función _lambda_ que implementa \"a(t)\".\n",
        "b        : (callable) Función _lambda_ que implementa \"b(t)\".\n",
        "c        : (callable) Función _lambda_ que implementa \"c(t)\".\n",
        "h1       : (callable) Función _lambda_ que implementa \"h1(t)\".\n",
        "h2       : (callable) Función _lambda_ que implementa \"h2(t)\".\n",
        "ap       : (callable) Función _lambda_ que implementa \"a'(t)\".\n",
        "bp       : (callable) Función _lambda_ que implementa \"b'(t)\".\n",
        "cp       : (callable) Función _lambda_ que implementa \"c'(t)\".\n",
        "h1p      : (callable) Función _lambda_ que implementa \"h1'(t)\".\n",
        "h2p      : (callable) Función _lambda_ que implementa \"h2'(t)\".\n",
        "x_tilde  : (double) \"Initial guess\" para t=tau0.\n",
        "Tol      : (double) Tolerancia absoluta requerida.\n",
        "MaxNIte  : (integer) Máximo número de iteraciones a realizar.\n",
        "\n",
        "output:\n",
        "root     : (ndarray) Raíz encontrada.\n",
        "'''\n",
        "def p2_4_find_roots(tau0, tau1, n, a, b, c, h1, h2, ap, bp, cp, h1p, h2p, x_tilde, Tol, MaxNIte):\n",
        "    # Your own code.\n",
        "    root = np.zeros(n+1)\n",
        "    xNuevo = x_tilde\n",
        "    xAntiguo = x_tilde\n",
        "    for tiempo in range(n+1):\n",
        "      t = ((tau1-tau0)*tiempo)/n\n",
        "      x_tilde = xAntiguo+t\n",
        "      xAntiguo = x_tilde\n",
        "      root[tiempo] = p2_2_find_root(t,a,b,c,h1,h2,ap,bp,cp,h1p,h2p,x_tilde,Tol, MaxNIte)\n",
        "    return root\n"
      ],
      "id": "790eba9c",
      "execution_count": null,
      "outputs": []
    },
    {
      "cell_type": "markdown",
      "metadata": {
        "id": "9UMoX331AXNk"
      },
      "source": [
        "#Valores Calculados\n",
        "\n",
        "```\n",
        "tau0 = 1\n",
        "tau1 = 30\n",
        "n = 20\n",
        "a = lambda t: -1\n",
        "ap = lambda t: 0\n",
        "b = lambda t: t\n",
        "bp = lambda t: 1\n",
        "c = lambda t: 1+np.exp(-t)\n",
        "cp = lambda t: - np.exp(-t)\n",
        "h1 = lambda x: x**2\n",
        "h1p = lambda x: 2*x\n",
        "h2 = lambda x: x\n",
        "h2p = lambda x: 1\n",
        "\n",
        "\n",
        "\n",
        "tol = pow(10,-10)\n",
        "m = pow(10, 6)\n",
        "\n",
        "p2_4_find_roots(tau0, tau1, n,a,b,c,h1,h2,ap,bp,cp,h1p,h2p,0, tol, m)\n",
        "```\n"
      ],
      "id": "9UMoX331AXNk"
    },
    {
      "cell_type": "code",
      "metadata": {
        "id": "Oiv6sGHz_1d9"
      },
      "source": [
        "############################################\n",
        "# P1.2\n",
        "############################################\n",
        "# p1_2_find_roots(t, a, b, c) -> roots\n",
        "testP12 = []\n",
        "t = 100\n",
        "a = lambda t: t+1\n",
        "b = lambda t: np.exp(t)\n",
        "c = lambda t: 1\n",
        "testP12.append([t,a,b,c])\n",
        "t = 100\n",
        "a = lambda t: t+1\n",
        "b = lambda t: -np.exp(t)\n",
        "c = lambda t: 1\n",
        "testP12.append([t,a,b,c])\n",
        "t = 100\n",
        "a = lambda t: t+1\n",
        "b = lambda t: -t\n",
        "c = lambda t: 1\n",
        "testP12.append([t,a,b,c])\n",
        "t = -10\n",
        "a = lambda t: t+1\n",
        "b = lambda t: -t\n",
        "c = lambda t: 1\n",
        "testP12.append([t,a,b,c])\n",
        "t = 1\n",
        "a = lambda t: 1\n",
        "b = lambda t: 0\n",
        "c = lambda t: -2\n",
        "testP12.append([t,a,b,c])\n",
        "\n",
        "############################################\n",
        "# P2.2\n",
        "############################################\n",
        "# p2_2_find_root(t, a, b, c, h1, h2, ap, bp, cp, h1p, h2p, x_tilde, Tol, MaxNIte) -> root\n",
        "testP22 = []\n",
        "\n",
        "t = 1\n",
        "a = lambda t: -1\n",
        "b = lambda t: t+1\n",
        "c = lambda t: 1+np.exp(-t)\n",
        "h1 = lambda x: x**2\n",
        "h2 = lambda x: x\n",
        "ap   = lambda t: 0\n",
        "bp   = lambda t: 1\n",
        "cp   = lambda t: -np.exp(-t)\n",
        "h1p  = lambda x: 2*x\n",
        "h2p  = lambda x: 1\n",
        "x_tilde = 0\n",
        "Tol = 10**(-10)\n",
        "MaxNIte = 100\n",
        "testP22.append([t, a, b, c, h1, h2, ap, bp, cp, h1p, h2p, x_tilde, Tol, MaxNIte])\n",
        "t = 10\n",
        "a = lambda t: -1\n",
        "b = lambda t: t+1\n",
        "c = lambda t: 1+np.exp(-t)\n",
        "h1 = lambda x: x**2\n",
        "h2 = lambda x: x\n",
        "ap   = lambda t: 0\n",
        "bp   = lambda t: 1\n",
        "cp   = lambda t: -np.exp(-t)\n",
        "h1p  = lambda x: 2*x\n",
        "h2p  = lambda x: 1\n",
        "x_tilde = 0\n",
        "Tol = 10**(-10)\n",
        "MaxNIte = 100\n",
        "testP22.append([t, a, b, c, h1, h2, ap, bp, cp, h1p, h2p, x_tilde, Tol, MaxNIte])\n",
        "t = 1\n",
        "a = lambda t: -1\n",
        "b = lambda t: t+1\n",
        "c = lambda t: 1+np.exp(-t)\n",
        "h1 = lambda x: np.cos(x)\n",
        "h2 = lambda x: np.sin(x)\n",
        "ap   = lambda t: 0\n",
        "bp   = lambda t: 1\n",
        "cp   = lambda t: -np.exp(-t)\n",
        "h1p  = lambda x: -np.sin(x)\n",
        "h2p  = lambda x: np.cos(x)\n",
        "x_tilde = 0\n",
        "Tol = 10**(-10)\n",
        "MaxNIte = 100\n",
        "testP22.append([t, a, b, c, h1, h2, ap, bp, cp, h1p, h2p, x_tilde, Tol, MaxNIte])\n",
        "t = 2\n",
        "a = lambda t: -1\n",
        "b = lambda t: t+1\n",
        "c = lambda t: 1+np.exp(-t)\n",
        "h1 = lambda x: np.cos(x)\n",
        "h2 = lambda x: np.sin(x)\n",
        "ap   = lambda t: 0\n",
        "bp   = lambda t: 1\n",
        "cp   = lambda t: -np.exp(-t)\n",
        "h1p  = lambda x: -np.sin(x)\n",
        "h2p  = lambda x: np.cos(x)\n",
        "x_tilde = 0\n",
        "Tol = 10**(-10)\n",
        "MaxNIte = 100\n",
        "testP22.append([t, a, b, c, h1, h2, ap, bp, cp, h1p, h2p, x_tilde, Tol, MaxNIte])\n",
        "\n",
        "############################################\n",
        "# P2.4\n",
        "############################################\n",
        "# p2_4_find_roots(tau0, tau1, n, a, b, c, h1, h2, ap, bp, cp, h1p, h2p, x_tilde, Tol, MaxNIte) -> roots\n",
        "testP24 = []\n",
        "\n",
        "tau0 = 0\n",
        "tau1 = 10\n",
        "n    = 20\n",
        "a = lambda t: -1\n",
        "b = lambda t: t+1\n",
        "c = lambda t: 1+np.exp(-t)\n",
        "h1 = lambda x: x**2\n",
        "h2 = lambda x: x\n",
        "ap   = lambda t: 0\n",
        "bp   = lambda t: 1\n",
        "cp   = lambda t: -np.exp(-t)\n",
        "h1p  = lambda x: 2*x\n",
        "h2p  = lambda x: 1\n",
        "x_tilde = -1.1\n",
        "Tol     = 10**(-10)\n",
        "MaxNIte = 1000\n",
        "testP24.append([tau0, tau1, n, a, b, c, h1, h2, ap, bp, cp, h1p, h2p, x_tilde, Tol, MaxNIte])\n",
        "tau0 = 0\n",
        "tau1 = 20\n",
        "n    = 21\n",
        "a = lambda t: -1\n",
        "b = lambda t: t+1\n",
        "c = lambda t: 0.5+np.exp(-t)\n",
        "h1 = lambda x: np.cos(x)\n",
        "h2 = lambda x: x \n",
        "ap   = lambda t: 0\n",
        "bp   = lambda t: 1\n",
        "cp   = lambda t: -np.exp(-t)\n",
        "h1p  = lambda x: -np.sin(x)\n",
        "h2p  = lambda x: 1\n",
        "x_tilde = 0\n",
        "Tol     = 10**(-10)\n",
        "MaxNIte = 10**2\n",
        "testP24.append([tau0, tau1, n, a, b, c, h1, h2, ap, bp, cp, h1p, h2p, x_tilde, Tol, MaxNIte])\n",
        "\n"
      ],
      "id": "Oiv6sGHz_1d9",
      "execution_count": null,
      "outputs": []
    },
    {
      "cell_type": "code",
      "metadata": {
        "colab": {
          "base_uri": "https://localhost:8080/",
          "height": 467
        },
        "id": "mWZ7HDmeCeh8",
        "outputId": "3ceda1a6-04e9-4031-aa25-d4bad2cfbd35"
      },
      "source": [
        "# P1.2 -> p1_2_find_roots\n",
        "print('P1.2')\n",
        "for test in testP12:\n",
        "    out=p1_2_find_roots(*test)\n",
        "    print(out)"
      ],
      "id": "mWZ7HDmeCeh8",
      "execution_count": null,
      "outputs": [
        {
          "output_type": "stream",
          "name": "stdout",
          "text": [
            "P1.2\n",
            "[            nan -2.66150212e+41]\n",
            "[           nan 2.66150212e+41]\n",
            "[0.01010309 0.97999592]\n",
            "[-0.09232799  1.2034391 ]\n"
          ]
        },
        {
          "output_type": "error",
          "ename": "ZeroDivisionError",
          "evalue": "ignored",
          "traceback": [
            "\u001b[0;31m---------------------------------------------------------------------------\u001b[0m",
            "\u001b[0;31mZeroDivisionError\u001b[0m                         Traceback (most recent call last)",
            "\u001b[0;32m<ipython-input-23-1217d1df5f6f>\u001b[0m in \u001b[0;36m<module>\u001b[0;34m()\u001b[0m\n\u001b[1;32m      2\u001b[0m \u001b[0mprint\u001b[0m\u001b[0;34m(\u001b[0m\u001b[0;34m'P1.2'\u001b[0m\u001b[0;34m)\u001b[0m\u001b[0;34m\u001b[0m\u001b[0;34m\u001b[0m\u001b[0m\n\u001b[1;32m      3\u001b[0m \u001b[0;32mfor\u001b[0m \u001b[0mtest\u001b[0m \u001b[0;32min\u001b[0m \u001b[0mtestP12\u001b[0m\u001b[0;34m:\u001b[0m\u001b[0;34m\u001b[0m\u001b[0;34m\u001b[0m\u001b[0m\n\u001b[0;32m----> 4\u001b[0;31m     \u001b[0mout\u001b[0m\u001b[0;34m=\u001b[0m\u001b[0mp1_2_find_roots\u001b[0m\u001b[0;34m(\u001b[0m\u001b[0;34m*\u001b[0m\u001b[0mtest\u001b[0m\u001b[0;34m)\u001b[0m\u001b[0;34m\u001b[0m\u001b[0;34m\u001b[0m\u001b[0m\n\u001b[0m\u001b[1;32m      5\u001b[0m     \u001b[0mprint\u001b[0m\u001b[0;34m(\u001b[0m\u001b[0mout\u001b[0m\u001b[0;34m)\u001b[0m\u001b[0;34m\u001b[0m\u001b[0;34m\u001b[0m\u001b[0m\n",
            "\u001b[0;32m<ipython-input-16-3a43787d7060>\u001b[0m in \u001b[0;36mp1_2_find_roots\u001b[0;34m(t, a, b, c)\u001b[0m\n\u001b[1;32m     64\u001b[0m     \u001b[0;31m#Se obtiene con el método de newton las dos raices\u001b[0m\u001b[0;34m\u001b[0m\u001b[0;34m\u001b[0m\u001b[0;34m\u001b[0m\u001b[0m\n\u001b[1;32m     65\u001b[0m     \u001b[0;31m#Cabe destacar que la función newton_method es la construida por el profesor\u001b[0m\u001b[0;34m\u001b[0m\u001b[0;34m\u001b[0m\u001b[0;34m\u001b[0m\u001b[0m\n\u001b[0;32m---> 66\u001b[0;31m     \u001b[0mraiz1\u001b[0m \u001b[0;34m=\u001b[0m \u001b[0mnewton_method\u001b[0m\u001b[0;34m(\u001b[0m\u001b[0mf\u001b[0m\u001b[0;34m,\u001b[0m \u001b[0mfp\u001b[0m\u001b[0;34m,\u001b[0m \u001b[0;34m-\u001b[0m\u001b[0;36m10\u001b[0m\u001b[0;34m*\u001b[0m\u001b[0mverticeX\u001b[0m\u001b[0;34m,\u001b[0m\u001b[0mrel_error\u001b[0m\u001b[0;34m=\u001b[0m\u001b[0;36m1e-5\u001b[0m\u001b[0;34m)\u001b[0m\u001b[0;34m\u001b[0m\u001b[0;34m\u001b[0m\u001b[0m\n\u001b[0m\u001b[1;32m     67\u001b[0m     \u001b[0mraiz2\u001b[0m \u001b[0;34m=\u001b[0m \u001b[0mnewton_method\u001b[0m\u001b[0;34m(\u001b[0m\u001b[0mf\u001b[0m\u001b[0;34m,\u001b[0m \u001b[0mfp\u001b[0m\u001b[0;34m,\u001b[0m \u001b[0;36m10\u001b[0m\u001b[0;34m*\u001b[0m\u001b[0mverticeX\u001b[0m\u001b[0;34m,\u001b[0m\u001b[0mrel_error\u001b[0m\u001b[0;34m=\u001b[0m\u001b[0;36m1e-5\u001b[0m\u001b[0;34m)\u001b[0m\u001b[0;34m\u001b[0m\u001b[0;34m\u001b[0m\u001b[0m\n\u001b[1;32m     68\u001b[0m \u001b[0;34m\u001b[0m\u001b[0m\n",
            "\u001b[0;32m<ipython-input-16-3a43787d7060>\u001b[0m in \u001b[0;36mnewton_method\u001b[0;34m(f, fp, x0, rel_error, m, maxNumberIterations)\u001b[0m\n\u001b[1;32m     20\u001b[0m     \u001b[0;32mwhile\u001b[0m \u001b[0;34m(\u001b[0m\u001b[0mhybrid_error\u001b[0m \u001b[0;34m>\u001b[0m \u001b[0mrel_error\u001b[0m \u001b[0;32mand\u001b[0m \u001b[0mhybrid_error\u001b[0m \u001b[0;34m<\u001b[0m \u001b[0;36m1e12\u001b[0m \u001b[0;32mand\u001b[0m \u001b[0mi\u001b[0m\u001b[0;34m<=\u001b[0m\u001b[0mmaxNumberIterations\u001b[0m\u001b[0;34m)\u001b[0m\u001b[0;34m:\u001b[0m\u001b[0;34m\u001b[0m\u001b[0;34m\u001b[0m\u001b[0m\n\u001b[1;32m     21\u001b[0m         \u001b[0;31m#Newton's iteration\u001b[0m\u001b[0;34m\u001b[0m\u001b[0;34m\u001b[0m\u001b[0;34m\u001b[0m\u001b[0m\n\u001b[0;32m---> 22\u001b[0;31m         \u001b[0mx1\u001b[0m \u001b[0;34m=\u001b[0m \u001b[0mx0\u001b[0m\u001b[0;34m-\u001b[0m\u001b[0mm\u001b[0m\u001b[0;34m*\u001b[0m\u001b[0mf\u001b[0m\u001b[0;34m(\u001b[0m\u001b[0mx0\u001b[0m\u001b[0;34m)\u001b[0m\u001b[0;34m/\u001b[0m\u001b[0mfp\u001b[0m\u001b[0;34m(\u001b[0m\u001b[0mx0\u001b[0m\u001b[0;34m)\u001b[0m\u001b[0;34m\u001b[0m\u001b[0;34m\u001b[0m\u001b[0m\n\u001b[0m\u001b[1;32m     23\u001b[0m \u001b[0;34m\u001b[0m\u001b[0m\n\u001b[1;32m     24\u001b[0m         \u001b[0;31m#Checking if root was found\u001b[0m\u001b[0;34m\u001b[0m\u001b[0;34m\u001b[0m\u001b[0;34m\u001b[0m\u001b[0m\n",
            "\u001b[0;31mZeroDivisionError\u001b[0m: float division by zero"
          ]
        }
      ]
    },
    {
      "cell_type": "code",
      "metadata": {
        "colab": {
          "base_uri": "https://localhost:8080/"
        },
        "id": "Gi3mPmuVAPjQ",
        "outputId": "0c495195-f753-4d76-8ed8-dd56f418ecac"
      },
      "source": [
        "# P2.2 -> p2_2_find_root\n",
        "print('P2.2')\n",
        "for test in testP22:\n",
        "    out=p2_2_find_root(*test)\n",
        "    print(out)\n"
      ],
      "id": "Gi3mPmuVAPjQ",
      "execution_count": null,
      "outputs": [
        {
          "output_type": "stream",
          "name": "stdout",
          "text": [
            "P2.2\n",
            "-0.5387915522160376\n",
            "-0.0901740044411643\n",
            "-0.19460347265392794\n",
            "-0.04547198744000936\n"
          ]
        }
      ]
    },
    {
      "cell_type": "code",
      "metadata": {
        "colab": {
          "base_uri": "https://localhost:8080/"
        },
        "id": "lf9UNn2TAQp-",
        "outputId": "ca1304f5-ee79-4914-a968-d99b128e2d9c"
      },
      "source": [
        "# P2.4 -> p2_4_find_roots\n",
        "print('P2.4')\n",
        "for test in testP24:\n",
        "    out=p2_4_find_roots(*test)\n",
        "    print(out)"
      ],
      "id": "lf9UNn2TAQp-",
      "execution_count": null,
      "outputs": [
        {
          "output_type": "stream",
          "name": "stdout",
          "text": [
            "P2.4\n",
            "[-1.         -0.72276293 -0.53879155  2.91902072  3.33992806  3.78582539\n",
            "  4.24717313  4.71833899  5.19598139  5.67807257  6.16334284  6.6509685\n",
            "  7.14039541  7.63123736  8.12321621  8.61612564  9.10980861  9.60414292\n",
            " 10.09903161 10.59439658 11.090174  ]\n",
            "[-0.81182332  0.05763141  0.11847179  0.11308376  0.0983484   0.08467134\n",
            "  0.0735739   0.06477783  0.05776059  0.05207737  0.04739765  0.04348364\n",
            "  0.04016412  0.03731421  0.03484127  0.03267532  0.03076264  0.0290613\n",
            "  0.02753816  0.02616661  0.02492512  0.02379604]\n"
          ]
        }
      ]
    }
  ]
}